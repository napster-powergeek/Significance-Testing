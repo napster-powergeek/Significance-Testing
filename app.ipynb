{
 "cells": [
  {
   "cell_type": "code",
   "execution_count": null,
   "metadata": {},
   "outputs": [],
   "source": [
    "from module2 import *"
   ]
  },
  {
   "cell_type": "code",
   "execution_count": null,
   "metadata": {},
   "outputs": [],
   "source": [
    "print('Hi, Which of the following would you like to do?')\n",
    "print('''\n",
    "1. Pre - Test Evaluation\n",
    "2. Test Evaluation\n",
    "''')\n",
    "\n",
    "t = input(\"Enter your Choice : \")"
   ]
  },
  {
   "cell_type": "code",
   "execution_count": null,
   "metadata": {},
   "outputs": [],
   "source": [
    "if t=='1':\n",
    "        print(\"We'll be working on the pre - test evaluation today\")\n",
    "        print()\n",
    "        print('Which of the following tests would you like to do?')\n",
    "        print('''\n",
    "        1. Chi Square Test for Conversions\n",
    "        \n",
    "        ''')\n",
    "        g = input(\"Enter your Choice : \")\n",
    "        print('You selected choice ' + g)\n",
    "        if g=='1':\n",
    "            #print(\"Please enter the values\")\n",
    "            chi_sq2()\n",
    "                      \n",
    "            \n",
    "            \n",
    "\t\t\t\n",
    "\t\t\t\n",
    "            \n",
    "elif t=='2':\n",
    "        print(\"We'll we working on an ongoing test evaluation today\")\n",
    "        print()\n",
    "        print('Which of the following tests would you like to do?')\n",
    "        print('''\n",
    "        1. Chi Square Test for Conversions\n",
    "        2. Z- Test for Average Time \n",
    "        ''')\n",
    "        g = input(\"Enter your Choice : \")\n",
    "        print('You selected choice ' + g)\n",
    "        if g=='1':\n",
    "            chi_sq()\n",
    "        elif g=='2':\n",
    "            print(\"We'll we working on the z-test today\")\n",
    "            print()\n",
    "            print(\"Z-test is a type of hypothesis test. We'll use Hypothesis testing to compare data samples\")\n",
    "            print()\n",
    "            print('The result for the hypothesis testing is as given below')\n",
    "            z_t()"
   ]
  },
  {
   "cell_type": "code",
   "execution_count": null,
   "metadata": {},
   "outputs": [],
   "source": []
  }
 ],
 "metadata": {
  "kernelspec": {
   "display_name": "Python 3",
   "language": "python",
   "name": "python3"
  },
  "language_info": {
   "codemirror_mode": {
    "name": "ipython",
    "version": 3
   },
   "file_extension": ".py",
   "mimetype": "text/x-python",
   "name": "python",
   "nbconvert_exporter": "python",
   "pygments_lexer": "ipython3",
   "version": "3.8.3"
  }
 },
 "nbformat": 4,
 "nbformat_minor": 2
}
